{
 "cells": [
  {
   "cell_type": "code",
   "execution_count": 1,
   "id": "40999e15-7983-4090-b014-102389bba335",
   "metadata": {},
   "outputs": [],
   "source": [
    "import numpy as np\n",
    "\n",
    "np.random.seed(56)\n",
    "Q1 = np.random.randint(20, size = (10, 10))\n"
   ]
  },
  {
   "cell_type": "code",
   "execution_count": 2,
   "id": "d6320e95-8cef-4827-a053-4bc25d5e9351",
   "metadata": {},
   "outputs": [],
   "source": [
    "Q2 = Q1[2:5, 3:8]"
   ]
  },
  {
   "cell_type": "code",
   "execution_count": 3,
   "id": "0b40b8c9-af9e-4f99-a444-21be2253e305",
   "metadata": {},
   "outputs": [],
   "source": [
    "Q3 = Q1[7:, 4:6]"
   ]
  },
  {
   "cell_type": "code",
   "execution_count": 4,
   "id": "351778f8-53f9-4db0-a155-1181abf6039f",
   "metadata": {},
   "outputs": [],
   "source": [
    "Q4 = Q3.reshape(2, 3)"
   ]
  },
  {
   "cell_type": "code",
   "execution_count": 5,
   "id": "c9456836-66b8-46d7-8957-7eac06f2e543",
   "metadata": {},
   "outputs": [],
   "source": [
    "x = np.random.randint(15, size = (10))\n",
    "y = np.random.randint(15, size = (10))\n",
    "\n",
    "Q5 = np.concatenate([x ,y])"
   ]
  },
  {
   "cell_type": "code",
   "execution_count": 11,
   "id": "103e8556-c5e2-4e75-8d3d-be96a33c7b0a",
   "metadata": {},
   "outputs": [],
   "source": [
    "Q6a, Q6b, Q6c, Q6d = np.split(Q5, [4, 11, 17])"
   ]
  },
  {
   "cell_type": "code",
   "execution_count": 13,
   "id": "4af9d694-6330-4f31-909f-0544cca881ee",
   "metadata": {},
   "outputs": [],
   "source": [
    "Q7 = np.sum(Q5)"
   ]
  },
  {
   "cell_type": "code",
   "execution_count": 26,
   "id": "fbc23fad-e107-4368-99f0-3daee1b0b90d",
   "metadata": {},
   "outputs": [],
   "source": [
    "randnums=np.random.randint(48,86,50)\n",
    "Q8 = np.mean(randnums)\n"
   ]
  },
  {
   "cell_type": "code",
   "execution_count": 42,
   "id": "98779d96-4ed2-4804-8fd3-eac1b8f4a72d",
   "metadata": {},
   "outputs": [
    {
     "name": "stdout",
     "output_type": "stream",
     "text": [
      "[('Jonathan Loaisiga ', 'Baseball player',  595800.  )\n",
      " ('Nick Saban', 'Football Coach', 8619934.23)\n",
      " ('Katie Ladecky', 'Swimmer',  100000.  )]\n"
     ]
    }
   ],
   "source": [
    "Q9 = np.zeros(3, dtype = {'names':('name', 'occupation', 'salary'),\n",
    "                            'formats' :('U20', 'U20', 'f8')})\n",
    "\n",
    "name = ['Jonathan Loaisiga ', 'Nick Saban', 'Katie Ladecky']\n",
    "occupation = ['Baseball player', 'Football Coach', 'Swimmer']\n",
    "salary = [595800.00, 8619934.23, 100000.00]\n",
    "\n",
    "Q9['name'] = name\n",
    "Q9['occupation'] = occupation\n",
    "Q9['salary'] = salary\n",
    "print(Q9)"
   ]
  }
 ],
 "metadata": {
  "kernelspec": {
   "display_name": "anaconda-panel-2023.05-py310",
   "language": "python",
   "name": "conda-env-anaconda-panel-2023.05-py310-py"
  },
  "language_info": {
   "codemirror_mode": {
    "name": "ipython",
    "version": 3
   },
   "file_extension": ".py",
   "mimetype": "text/x-python",
   "name": "python",
   "nbconvert_exporter": "python",
   "pygments_lexer": "ipython3",
   "version": "3.11.4"
  }
 },
 "nbformat": 4,
 "nbformat_minor": 5
}
