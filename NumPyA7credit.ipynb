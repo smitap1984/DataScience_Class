{
 "cells": [
  {
   "cell_type": "code",
   "execution_count": 58,
   "id": "f57c5351-edd8-4572-9736-549ded24ff69",
   "metadata": {},
   "outputs": [],
   "source": [
    "import numpy as np\n",
    "\n",
    "q1 = np.arange(2, 17, 2)\n"
   ]
  },
  {
   "cell_type": "code",
   "execution_count": 59,
   "id": "cfed61f3-df0c-466a-a2ef-91eeb94ff7e1",
   "metadata": {},
   "outputs": [],
   "source": [
    "Q1 = [q1[6], q1[2], q1[5]]"
   ]
  },
  {
   "cell_type": "code",
   "execution_count": 60,
   "id": "8e5a1329-c7ea-4afc-ab0e-17320e3f7f1d",
   "metadata": {},
   "outputs": [],
   "source": [
    "q2 = np.array([[1, 3, 2], \n",
    "               [0, 7, 4]])"
   ]
  },
  {
   "cell_type": "code",
   "execution_count": 63,
   "id": "0f12f059-ec71-4835-8905-669f084a3223",
   "metadata": {},
   "outputs": [],
   "source": [
    "Q2 = q1[q2]"
   ]
  },
  {
   "cell_type": "code",
   "execution_count": 67,
   "id": "3bb502dc-48cc-441a-b6ec-f96e136d0694",
   "metadata": {},
   "outputs": [],
   "source": [
    "Q3 = q1.reshape(4,2)"
   ]
  },
  {
   "cell_type": "code",
   "execution_count": 71,
   "id": "1ff4da2f-3de3-4ac9-9640-f54d3f485e7a",
   "metadata": {},
   "outputs": [],
   "source": [
    "Q4 = Q3[0][::-1]"
   ]
  },
  {
   "cell_type": "code",
   "execution_count": 79,
   "id": "68b32596-9ff5-44b5-97d6-39ab7c50ec84",
   "metadata": {},
   "outputs": [],
   "source": [
    "Q5 = Q3[0:2, [0]]"
   ]
  },
  {
   "cell_type": "code",
   "execution_count": 53,
   "id": "87e0e9b5-779e-43d1-bec4-c8d72f9ea4cf",
   "metadata": {},
   "outputs": [],
   "source": [
    "np.random.seed(6)\n",
    "x = np.random.randint(10, size = (10))\n",
    "Q6 = np.sort(x)"
   ]
  },
  {
   "cell_type": "code",
   "execution_count": 30,
   "id": "a23fe79f-b5fb-4234-8904-f49b18ed55ee",
   "metadata": {},
   "outputs": [],
   "source": [
    "q7 = np.random.randint(10, size = (4, 5))"
   ]
  },
  {
   "cell_type": "code",
   "execution_count": 83,
   "id": "43e6c0e4-d525-4de3-a055-2c98854aa50e",
   "metadata": {},
   "outputs": [],
   "source": [
    "Q7 = np.sort(q7, axis=0)"
   ]
  },
  {
   "cell_type": "code",
   "execution_count": 82,
   "id": "bbd59629-3ae7-43f4-97f1-dab01457882e",
   "metadata": {},
   "outputs": [],
   "source": [
    "Q8 = np.sort(q7, axis=1)"
   ]
  },
  {
   "cell_type": "code",
   "execution_count": 39,
   "id": "3d5d1c2a-3bf6-4e52-8778-8cc711585102",
   "metadata": {},
   "outputs": [],
   "source": [
    "q9 = np.zeros(3, dtype = {'names':('Fruit', 'Color', 'Ranking'),\n",
    "                            'formats' :('U20', 'U20', 'i4')})\n",
    "\n",
    "Fruit = ['Grape', 'Apple', 'Banana']\n",
    "Color = ['Purple', 'Red', 'Yellow']\n",
    "Ranking = [3, 2, 1]\n",
    "\n",
    "q9['Fruit'] = Fruit\n",
    "q9['Color'] = Color\n",
    "q9['Ranking'] = Ranking"
   ]
  },
  {
   "cell_type": "code",
   "execution_count": 45,
   "id": "89f8b05f-88dd-4377-88de-7b6fefb9c67f",
   "metadata": {},
   "outputs": [],
   "source": [
    "Q9 = q9['Color']"
   ]
  },
  {
   "cell_type": "code",
   "execution_count": 41,
   "id": "142d1de0-41c4-47a3-9b1d-7b150d2af659",
   "metadata": {},
   "outputs": [],
   "source": [
    "Q10 = q9[2]"
   ]
  },
  {
   "cell_type": "code",
   "execution_count": 49,
   "id": "bb5be4cb-1fbb-4514-90da-62b66d38a500",
   "metadata": {},
   "outputs": [],
   "source": [
    "Q11 = q9[q9['Ranking'] < 3]"
   ]
  }
 ],
 "metadata": {
  "kernelspec": {
   "display_name": "anaconda-panel-2023.05-py310",
   "language": "python",
   "name": "conda-env-anaconda-panel-2023.05-py310-py"
  },
  "language_info": {
   "codemirror_mode": {
    "name": "ipython",
    "version": 3
   },
   "file_extension": ".py",
   "mimetype": "text/x-python",
   "name": "python",
   "nbconvert_exporter": "python",
   "pygments_lexer": "ipython3",
   "version": "3.11.4"
  }
 },
 "nbformat": 4,
 "nbformat_minor": 5
}
