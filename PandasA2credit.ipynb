{
 "cells": [
  {
   "cell_type": "code",
   "execution_count": 6,
   "id": "a24f371b-182a-4d98-8951-aa4726d5a7c9",
   "metadata": {},
   "outputs": [],
   "source": [
    "import pandas as pd\n",
    "\n",
    "series = pd.Series(range(3, 12, 2))\n",
    "Q1 = series.values"
   ]
  },
  {
   "cell_type": "code",
   "execution_count": 14,
   "id": "21c49bc9-86be-4ea0-826f-b7b350af41ab",
   "metadata": {},
   "outputs": [],
   "source": [
    "Q2 = series.index"
   ]
  },
  {
   "cell_type": "code",
   "execution_count": 19,
   "id": "2019b4bb-7a2a-4043-aae1-9dcd1199972d",
   "metadata": {},
   "outputs": [],
   "source": [
    "Q3 = series[2]"
   ]
  },
  {
   "cell_type": "code",
   "execution_count": 23,
   "id": "f8e28b16-6833-44e8-b623-0809019617c7",
   "metadata": {},
   "outputs": [],
   "source": [
    "Q4 = series[2:4]"
   ]
  },
  {
   "cell_type": "code",
   "execution_count": 24,
   "id": "7bf5d913-2a27-498b-87de-6d213a516f89",
   "metadata": {},
   "outputs": [],
   "source": [
    "Q5 = pd.Series([3, 5, 7, 9, 11], \n",
    "               index=['three', 'five', 'seven', 'nine', 'eleven'])"
   ]
  },
  {
   "cell_type": "code",
   "execution_count": 27,
   "id": "070c154f-c6e5-442c-96e1-3e6dd18342e5",
   "metadata": {},
   "outputs": [],
   "source": [
    "Q6 = pd.Series({'Da': 'ta', 'Sc': 'ie', 'nc': 'ef', 'or': 'all'})"
   ]
  },
  {
   "cell_type": "code",
   "execution_count": 28,
   "id": "b6a6bab2-7263-4596-a296-1672ea1c8bc4",
   "metadata": {},
   "outputs": [],
   "source": [
    "Q7 = Q6[2]"
   ]
  },
  {
   "cell_type": "code",
   "execution_count": 29,
   "id": "3581570f-692c-43f2-b386-b115be01323a",
   "metadata": {},
   "outputs": [],
   "source": [
    "Q8 = Q6[1:4]"
   ]
  },
  {
   "cell_type": "code",
   "execution_count": 30,
   "id": "9d2f0a6c-4ae9-4d42-ac6b-0db77a563ff7",
   "metadata": {},
   "outputs": [],
   "source": [
    "lowercase = pd.Series({'A': 'a', 'B': 'b', 'C': 'c'})\n",
    "numbers = pd.Series({'A': 1, 'B': 2, 'C':3})\n",
    "Q9 = pd.DataFrame({'lowercase':lowercase, 'numbers':numbers})"
   ]
  },
  {
   "cell_type": "code",
   "execution_count": 34,
   "id": "b620c3d3-e557-4649-b339-1f8b7ef08b48",
   "metadata": {},
   "outputs": [
    {
     "data": {
      "text/html": [
       "<div>\n",
       "<style scoped>\n",
       "    .dataframe tbody tr th:only-of-type {\n",
       "        vertical-align: middle;\n",
       "    }\n",
       "\n",
       "    .dataframe tbody tr th {\n",
       "        vertical-align: top;\n",
       "    }\n",
       "\n",
       "    .dataframe thead th {\n",
       "        text-align: right;\n",
       "    }\n",
       "</style>\n",
       "<table border=\"1\" class=\"dataframe\">\n",
       "  <thead>\n",
       "    <tr style=\"text-align: right;\">\n",
       "      <th></th>\n",
       "      <th>lowercase</th>\n",
       "      <th>numbers</th>\n",
       "    </tr>\n",
       "  </thead>\n",
       "  <tbody>\n",
       "    <tr>\n",
       "      <th>A</th>\n",
       "      <td>a</td>\n",
       "      <td>1</td>\n",
       "    </tr>\n",
       "    <tr>\n",
       "      <th>B</th>\n",
       "      <td>b</td>\n",
       "      <td>2</td>\n",
       "    </tr>\n",
       "    <tr>\n",
       "      <th>C</th>\n",
       "      <td>c</td>\n",
       "      <td>3</td>\n",
       "    </tr>\n",
       "  </tbody>\n",
       "</table>\n",
       "</div>"
      ],
      "text/plain": [
       "  lowercase  numbers\n",
       "A         a        1\n",
       "B         b        2\n",
       "C         c        3"
      ]
     },
     "execution_count": 34,
     "metadata": {},
     "output_type": "execute_result"
    }
   ],
   "source": [
    "Q9"
   ]
  },
  {
   "cell_type": "code",
   "execution_count": 37,
   "id": "b0225160-2a8f-40b8-b2d9-8012749ccf3a",
   "metadata": {},
   "outputs": [],
   "source": [
    "Q10 = Q9.index"
   ]
  },
  {
   "cell_type": "code",
   "execution_count": 32,
   "id": "47bf7835-db27-4283-b7b6-c5351293a62d",
   "metadata": {},
   "outputs": [],
   "source": [
    "Q11 = Q9.columns"
   ]
  },
  {
   "cell_type": "code",
   "execution_count": 33,
   "id": "bc952e0c-b11e-4ede-bceb-8166eb64bc98",
   "metadata": {},
   "outputs": [],
   "source": [
    "Q12 = Q9.numbers"
   ]
  }
 ],
 "metadata": {
  "kernelspec": {
   "display_name": "anaconda-panel-2023.05-py310",
   "language": "python",
   "name": "conda-env-anaconda-panel-2023.05-py310-py"
  },
  "language_info": {
   "codemirror_mode": {
    "name": "ipython",
    "version": 3
   },
   "file_extension": ".py",
   "mimetype": "text/x-python",
   "name": "python",
   "nbconvert_exporter": "python",
   "pygments_lexer": "ipython3",
   "version": "3.11.4"
  }
 },
 "nbformat": 4,
 "nbformat_minor": 5
}
