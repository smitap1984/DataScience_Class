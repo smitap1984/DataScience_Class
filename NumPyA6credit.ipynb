{
 "cells": [
  {
   "cell_type": "code",
   "execution_count": 160,
   "id": "11cda0d9-3281-4bb7-881c-2dbe14d2fb4e",
   "metadata": {},
   "outputs": [],
   "source": [
    "import numpy as np\n",
    "\n",
    "np.random.seed(100)\n",
    "x = np.random.random(20)\n"
   ]
  },
  {
   "cell_type": "code",
   "execution_count": 174,
   "id": "dce7ee9e-339c-4108-b61c-baf46f227097",
   "metadata": {},
   "outputs": [],
   "source": [
    "# Q1 = sum(x)\n",
    "Q1 = 9.092230907237518"
   ]
  },
  {
   "cell_type": "code",
   "execution_count": 146,
   "id": "1ead28c2-2433-47d6-a520-3c9bf270e7eb",
   "metadata": {},
   "outputs": [],
   "source": [
    "Q2 = max(x)"
   ]
  },
  {
   "cell_type": "code",
   "execution_count": 152,
   "id": "4b92d342-0605-48e6-befe-d9265df8c110",
   "metadata": {},
   "outputs": [],
   "source": [
    "x = np.random.random((4, 5))\n",
    "Q3 = x.min(axis=1)"
   ]
  },
  {
   "cell_type": "code",
   "execution_count": 154,
   "id": "569e14b9-0f20-4b9c-86b9-ee13adb44e0d",
   "metadata": {},
   "outputs": [],
   "source": [
    "Q4 = np.mean((x))\n"
   ]
  },
  {
   "cell_type": "code",
   "execution_count": 167,
   "id": "1e39452b-0e9e-46ab-b391-fa8ae2cd02d7",
   "metadata": {},
   "outputs": [],
   "source": [
    "y = np.array([2, 3, np.nan, 5])"
   ]
  },
  {
   "cell_type": "code",
   "execution_count": 155,
   "id": "25a5793a-c7ae-4dfd-ab37-96c90355e0e8",
   "metadata": {},
   "outputs": [],
   "source": [
    "Q5 = np.nansum(y)"
   ]
  },
  {
   "cell_type": "code",
   "execution_count": 161,
   "id": "6f376c5d-e11d-4bfd-a2bc-69ba913f5ad2",
   "metadata": {},
   "outputs": [],
   "source": [
    "x = np.random.random((4))\n",
    "y = np.random.random((4))\n",
    "Q6 = np.concatenate([x ,y])\n"
   ]
  },
  {
   "cell_type": "code",
   "execution_count": 169,
   "id": "8d52274e-7aec-48dc-9652-54e07b3b430a",
   "metadata": {},
   "outputs": [],
   "source": [
    "q7 = np.random.random((4, 4))\n",
    "Q7 = np.concatenate([q7, q7])"
   ]
  },
  {
   "cell_type": "code",
   "execution_count": 176,
   "id": "74d2344a-8cd1-4bb5-a437-ee36ac6c1324",
   "metadata": {},
   "outputs": [],
   "source": [
    "q8 = np.random.random((2, 4))\n",
    "Q8 = np.vstack((q7, q8))"
   ]
  },
  {
   "cell_type": "code",
   "execution_count": 171,
   "id": "945ffd9c-8581-451c-aff7-eb3acf6c4285",
   "metadata": {},
   "outputs": [],
   "source": [
    "Q9 = np.vstack([q7, q7, q7, q8, q8])"
   ]
  },
  {
   "cell_type": "code",
   "execution_count": 173,
   "id": "615529e2-eeeb-4d8e-a30e-929fbc3c5976",
   "metadata": {},
   "outputs": [],
   "source": [
    "x = np.random.random((2, 1))\n",
    "Q10 = np.hstack((q8, x))"
   ]
  },
  {
   "cell_type": "code",
   "execution_count": 118,
   "id": "98a784aa-0b96-4915-894b-4f86384a3c46",
   "metadata": {},
   "outputs": [],
   "source": [
    "q11 = np.random.random(20)"
   ]
  },
  {
   "cell_type": "code",
   "execution_count": 120,
   "id": "eafec361-e4ac-47ee-8669-3d3fefcf51ea",
   "metadata": {},
   "outputs": [],
   "source": [
    "Q11a, Q11b = np.split(q11, [5])"
   ]
  },
  {
   "cell_type": "code",
   "execution_count": 124,
   "id": "f584131b-8a1a-4a70-90b8-b058d50928d6",
   "metadata": {},
   "outputs": [],
   "source": [
    "Q12a, Q12b, Q12c = np.split(q11, [10, 15])"
   ]
  },
  {
   "cell_type": "code",
   "execution_count": 128,
   "id": "54d7107a-4123-42bb-8360-9864d31aadad",
   "metadata": {},
   "outputs": [],
   "source": [
    "q13 = np.random.random((5, 5))"
   ]
  },
  {
   "cell_type": "code",
   "execution_count": 131,
   "id": "9fa9d787-a0d5-48a7-a9fe-9559b961e96b",
   "metadata": {},
   "outputs": [],
   "source": [
    "Q13a, Q13b =np.vsplit(q13, [3])"
   ]
  },
  {
   "cell_type": "code",
   "execution_count": 135,
   "id": "73698503-5955-4a4a-a393-bc2d21691e7d",
   "metadata": {},
   "outputs": [],
   "source": [
    "Q14a, Q14b =np.hsplit(q13, [3])"
   ]
  }
 ],
 "metadata": {
  "kernelspec": {
   "display_name": "anaconda-panel-2023.05-py310",
   "language": "python",
   "name": "conda-env-anaconda-panel-2023.05-py310-py"
  },
  "language_info": {
   "codemirror_mode": {
    "name": "ipython",
    "version": 3
   },
   "file_extension": ".py",
   "mimetype": "text/x-python",
   "name": "python",
   "nbconvert_exporter": "python",
   "pygments_lexer": "ipython3",
   "version": "3.11.4"
  }
 },
 "nbformat": 4,
 "nbformat_minor": 5
}
