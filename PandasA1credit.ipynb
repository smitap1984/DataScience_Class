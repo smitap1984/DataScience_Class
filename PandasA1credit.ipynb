{
 "cells": [
  {
   "cell_type": "code",
   "execution_count": 7,
   "id": "49b13110-64e3-4190-bdfc-054a8c8e5581",
   "metadata": {},
   "outputs": [],
   "source": [
    "import pandas as pd"
   ]
  },
  {
   "cell_type": "code",
   "execution_count": 47,
   "id": "72217668-65be-466a-bda0-751105293bf4",
   "metadata": {},
   "outputs": [],
   "source": [
    "Q1 = pd.Series(['Stina Calista', 'Fran Hendrix', 'Cyril Isak', 'Danilo Norina'], \n",
    "               index=[5281224, 4223241, 4233342, 5012332])\n",
    "               "
   ]
  },
  {
   "cell_type": "code",
   "execution_count": 39,
   "id": "5bf9787c-78a3-4e73-9527-bee887ede058",
   "metadata": {},
   "outputs": [],
   "source": [
    "Q2 = {'Roger Clemens': 133.7, 'Cy Young': 131.5, 'Walter Johnson': 117.1, 'Greg Maddux': 116.7, 'Randy Johnson': 110.4} "
   ]
  },
  {
   "cell_type": "code",
   "execution_count": 40,
   "id": "649ad685-129c-4e37-93d0-46bf0590c422",
   "metadata": {},
   "outputs": [],
   "source": [
    "Q3 = pd.Series(Q2)"
   ]
  },
  {
   "cell_type": "code",
   "execution_count": 41,
   "id": "9e3d1b74-3ec1-44be-a8d8-84f1d68ce6e7",
   "metadata": {},
   "outputs": [],
   "source": [
    "occupation = pd.Series(['Accountant', 'Data Scientist', 'Manager', 'Security staff'], \n",
    "                      index=[5281224, 4223241, 4233342, 5012332])"
   ]
  },
  {
   "cell_type": "code",
   "execution_count": 42,
   "id": "0167f25f-39b6-4824-add1-5f6c88982222",
   "metadata": {},
   "outputs": [],
   "source": [
    "Q4 = pd.DataFrame({'Name':Q1, 'Occupation':occupation})\n"
   ]
  },
  {
   "cell_type": "code",
   "execution_count": 40,
   "id": "4110edc6-603f-49af-996d-29798c819fae",
   "metadata": {},
   "outputs": [],
   "source": [
    "pop_dict = {'China' : 1411778724,\n",
    "           'India' : 1378331486,\n",
    "           'United States': 331865271,\n",
    "           'Indonesia' : 271350000,\n",
    "           'Pakistan' : 225200000}\n",
    "\n",
    "area_dict = {'Russia': 17098246, 'Canada': 9984670, 'China' : 9596961,\n",
    "             'United States': 9525067, 'Brazil' : 8515767}\n"
   ]
  },
  {
   "cell_type": "code",
   "execution_count": 44,
   "id": "42fd4b27-fb24-4203-98df-5dac8e6cee74",
   "metadata": {},
   "outputs": [],
   "source": [
    "Q5 = pd.DataFrame({'Population' : pop_dict, 'Area': area_dict})"
   ]
  },
  {
   "cell_type": "code",
   "execution_count": 52,
   "id": "c71a09d1-3be2-4f0f-aa82-58307822a602",
   "metadata": {},
   "outputs": [],
   "source": [
    "Q6 = Q5.loc[['China', 'United States']]"
   ]
  },
  {
   "cell_type": "code",
   "execution_count": 60,
   "id": "603a224d-6f28-49fb-b4e5-2c3d2834ce23",
   "metadata": {},
   "outputs": [],
   "source": [
    "Q7 = Q5.loc[Q5['Population'] > 270000000]"
   ]
  },
  {
   "cell_type": "code",
   "execution_count": 66,
   "id": "b99fdaca-3a9e-4e43-8712-f77314cd2b3f",
   "metadata": {},
   "outputs": [],
   "source": [
    "Q8 = Q5.loc[Q5['Area'] > 9600000]"
   ]
  }
 ],
 "metadata": {
  "kernelspec": {
   "display_name": "anaconda-panel-2023.05-py310",
   "language": "python",
   "name": "conda-env-anaconda-panel-2023.05-py310-py"
  },
  "language_info": {
   "codemirror_mode": {
    "name": "ipython",
    "version": 3
   },
   "file_extension": ".py",
   "mimetype": "text/x-python",
   "name": "python",
   "nbconvert_exporter": "python",
   "pygments_lexer": "ipython3",
   "version": "3.11.4"
  }
 },
 "nbformat": 4,
 "nbformat_minor": 5
}
