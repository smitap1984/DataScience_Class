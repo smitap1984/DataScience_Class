{
 "cells": [
  {
   "cell_type": "code",
   "execution_count": 13,
   "id": "c7d1a134-7ead-4125-ac73-6ffe7988d918",
   "metadata": {},
   "outputs": [],
   "source": [
    " def Q1():\n",
    "\n",
    "    print ( \"Hello World\")\n",
    "        "
   ]
  },
  {
   "cell_type": "code",
   "execution_count": 14,
   "id": "fa292e92-e4b8-457c-a5ae-d449a600e612",
   "metadata": {},
   "outputs": [],
   "source": [
    "def Q2():\n",
    "\n",
    "    print (\"Eastern University\")"
   ]
  },
  {
   "cell_type": "code",
   "execution_count": 22,
   "id": "7733da16-a5c9-4af2-b96b-7d7a4a37517f",
   "metadata": {},
   "outputs": [],
   "source": [
    "def Q3 (x):\n",
    "    print (x)"
   ]
  },
  {
   "cell_type": "code",
   "execution_count": 23,
   "id": "bd8c296d-39f0-423c-a06c-b2050db60441",
   "metadata": {},
   "outputs": [],
   "source": [
    "def Q4 (x):\n",
    "    return (x * x)"
   ]
  },
  {
   "cell_type": "code",
   "execution_count": 28,
   "id": "4792449f-9368-4b2b-a398-6712b39af009",
   "metadata": {},
   "outputs": [],
   "source": [
    "def Q5 (x):\n",
    "    return (x * x * x)"
   ]
  },
  {
   "cell_type": "code",
   "execution_count": 33,
   "id": "fd4d44b9-c981-4016-87bc-a6180f4998e3",
   "metadata": {},
   "outputs": [],
   "source": [
    "def Q6 (x):\n",
    "    print (\"The argument is\", x)"
   ]
  },
  {
   "cell_type": "code",
   "execution_count": 36,
   "id": "abf2b9ed-78a3-429d-bfe7-4fb1a59a1321",
   "metadata": {},
   "outputs": [],
   "source": [
    "def Q7 (x, y):\n",
    "    print (x - y)"
   ]
  },
  {
   "cell_type": "code",
   "execution_count": 38,
   "id": "974438c4-f079-421d-9b22-01538f53a31d",
   "metadata": {},
   "outputs": [],
   "source": [
    "def Q8 (a, b, c, d, e):\n",
    "    print (a * b * c * d * e)"
   ]
  },
  {
   "cell_type": "code",
   "execution_count": 41,
   "id": "2a93bbe3-19ad-48f9-85d2-ba527dfb1902",
   "metadata": {},
   "outputs": [],
   "source": [
    "def Q9(x):\n",
    "\n",
    "    i = 0\n",
    "\n",
    "    while i < x:\n",
    "        print (i)\n",
    "        i += 1"
   ]
  },
  {
   "cell_type": "code",
   "execution_count": null,
   "id": "8bf5aa0e-ba94-4054-8bde-c9a97e277ab3",
   "metadata": {},
   "outputs": [],
   "source": []
  }
 ],
 "metadata": {
  "kernelspec": {
   "display_name": "anaconda-panel-2023.05-py310",
   "language": "python",
   "name": "conda-env-anaconda-panel-2023.05-py310-py"
  },
  "language_info": {
   "codemirror_mode": {
    "name": "ipython",
    "version": 3
   },
   "file_extension": ".py",
   "mimetype": "text/x-python",
   "name": "python",
   "nbconvert_exporter": "python",
   "pygments_lexer": "ipython3",
   "version": "3.11.4"
  }
 },
 "nbformat": 4,
 "nbformat_minor": 5
}
