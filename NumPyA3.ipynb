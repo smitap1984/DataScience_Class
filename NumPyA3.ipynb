{
 "cells": [
  {
   "cell_type": "code",
   "execution_count": 1,
   "id": "d7635f51-ccc0-4b40-be55-71624ec831ce",
   "metadata": {},
   "outputs": [],
   "source": [
    "import numpy as np\n",
    "\n",
    "np.random.seed(77)\n",
    "Q1 = np.random.randint(50, size = (8, 6))\n"
   ]
  },
  {
   "cell_type": "code",
   "execution_count": 4,
   "id": "4035c4e2-98e7-434b-88cd-775f71822d05",
   "metadata": {},
   "outputs": [],
   "source": [
    "Q2 = Q1[2:7, 4:6]"
   ]
  },
  {
   "cell_type": "code",
   "execution_count": 10,
   "id": "a1f237a4-c71b-4171-9250-a58cd5385cf9",
   "metadata": {},
   "outputs": [],
   "source": [
    "Q3 = Q1[2:, 3:5]"
   ]
  },
  {
   "cell_type": "code",
   "execution_count": 41,
   "id": "b1a262ee-3de7-4981-aea7-1e578fedce39",
   "metadata": {},
   "outputs": [],
   "source": [
    "Q4 = Q3.reshape(2, 6)"
   ]
  },
  {
   "cell_type": "code",
   "execution_count": 43,
   "id": "06425e0f-d1c4-47cb-97f5-86b29eccb69c",
   "metadata": {},
   "outputs": [],
   "source": [
    "Q5 = Q4.reshape(3,4)"
   ]
  },
  {
   "cell_type": "code",
   "execution_count": 51,
   "id": "2a988cea-aa93-457b-8642-bc50601f5c82",
   "metadata": {},
   "outputs": [
    {
     "name": "stdout",
     "output_type": "stream",
     "text": [
      "[('Janetta ', 'Lydia', 58, 58) ('Deb', 'Albin', 68, 50)\n",
      " ('Minato', 'Vanja', 78, 38) ('Maurine', 'Peter', 77, 57)\n",
      " ('Niketas', 'Justine', 70, 60)]\n"
     ]
    }
   ],
   "source": [
    "Q6 = np.zeros(5, dtype = {'names':('name', 'last', 'height', 'age'),\n",
    "                            'formats' :('U20', 'U20', 'int16', 'int16')})\n",
    "\n",
    "name = ['Janetta ', 'Deb', 'Minato', 'Maurine', 'Niketas']\n",
    "last = ['Lydia', 'Albin', 'Vanja', 'Peter', 'Justine']\n",
    "height = [58, 68, 78, 77, 70]\n",
    "age = [58, 50, 38, 57, 60]                                        \n",
    "                                        \n",
    "\n",
    "Q6['name'] = name\n",
    "Q6['last'] = last\n",
    "Q6['height'] = height\n",
    "Q6['age'] = age                                       \n",
    "print(Q6)"
   ]
  }
 ],
 "metadata": {
  "kernelspec": {
   "display_name": "anaconda-panel-2023.05-py310",
   "language": "python",
   "name": "conda-env-anaconda-panel-2023.05-py310-py"
  },
  "language_info": {
   "codemirror_mode": {
    "name": "ipython",
    "version": 3
   },
   "file_extension": ".py",
   "mimetype": "text/x-python",
   "name": "python",
   "nbconvert_exporter": "python",
   "pygments_lexer": "ipython3",
   "version": "3.11.4"
  }
 },
 "nbformat": 4,
 "nbformat_minor": 5
}
