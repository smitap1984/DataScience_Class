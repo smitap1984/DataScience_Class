{
 "cells": [
  {
   "cell_type": "code",
   "execution_count": 5,
   "id": "e8028f72-ecfd-4907-86e6-165790ff5ed4",
   "metadata": {},
   "outputs": [],
   "source": [
    "import pandas as pd"
   ]
  },
  {
   "cell_type": "code",
   "execution_count": 39,
   "id": "0641d83b-bd5a-4f8c-b6d4-c1d8355a2d27",
   "metadata": {},
   "outputs": [],
   "source": [
    "lowercase = pd.Series({'A': 'a', 'B': 'b', 'C': 'c', 'D': 'd', 'E': 'e'})\n",
    "numbers = pd.Series({'A': 1, 'B': 2, 'C':3, 'D': 4, 'E': 5})\n",
    "q1= pd.DataFrame({'lowercase':lowercase, 'numbers':numbers})"
   ]
  },
  {
   "cell_type": "code",
   "execution_count": 7,
   "id": "78f600a7-33e4-46ff-bd09-b01485c42848",
   "metadata": {},
   "outputs": [],
   "source": [
    "Q1 = q1['numbers']['C']"
   ]
  },
  {
   "cell_type": "code",
   "execution_count": 37,
   "id": "deed0496-d8fc-49c4-82ca-bf943d83377d",
   "metadata": {},
   "outputs": [],
   "source": [
    "lowercase = pd.Series({'B': 'b', 'C': 'c', 'D': 'd', 'E': 'e'})\n",
    "numbers = pd.Series({'B': 2, 'C':3, 'D': 4, 'E': 5})\n",
    "Q2= pd.DataFrame({'lowercase':lowercase, 'numbers':numbers})"
   ]
  },
  {
   "cell_type": "code",
   "execution_count": 16,
   "id": "591a5f3f-dc25-4e4c-8c15-31d530161c50",
   "metadata": {},
   "outputs": [],
   "source": [
    "Q3 = q1.loc['D']"
   ]
  },
  {
   "cell_type": "code",
   "execution_count": 24,
   "id": "5d1fb1be-58b7-4ef7-bb63-9aee04842c85",
   "metadata": {},
   "outputs": [],
   "source": [
    "Q4 = q1.loc[:'C', 'numbers']"
   ]
  },
  {
   "cell_type": "code",
   "execution_count": 30,
   "id": "3c514966-0cd9-4779-acc1-f21b54d5d356",
   "metadata": {},
   "outputs": [],
   "source": [
    "Q5 = q1.loc[['A', 'C', 'D']]"
   ]
  },
  {
   "cell_type": "code",
   "execution_count": 32,
   "id": "7ad3f535-739b-4c32-989d-e8fb6f1dfab5",
   "metadata": {},
   "outputs": [],
   "source": [
    "Q6 = q1.loc['C']"
   ]
  },
  {
   "cell_type": "code",
   "execution_count": 34,
   "id": "3b6d0ee5-3031-4f44-af0d-65adfd8f69b6",
   "metadata": {},
   "outputs": [],
   "source": [
    "Q7 = q1.loc['E', 'numbers']"
   ]
  },
  {
   "cell_type": "code",
   "execution_count": 38,
   "id": "c23b283d-b0ef-4c60-98ab-e56f578a881f",
   "metadata": {},
   "outputs": [],
   "source": [
    "Q8 = q1.loc[['C', 'D', 'E']]"
   ]
  },
  {
   "cell_type": "code",
   "execution_count": 41,
   "id": "14583d29-8d83-4347-9916-5550db9e71df",
   "metadata": {},
   "outputs": [],
   "source": [
    "Q9 = q1.loc[q1.numbers < 3]"
   ]
  },
  {
   "cell_type": "code",
   "execution_count": 51,
   "id": "d8607304-abd3-4c61-bd57-070bb0323cc8",
   "metadata": {},
   "outputs": [],
   "source": [
    "Q10 = q1.iloc[3]"
   ]
  },
  {
   "cell_type": "code",
   "execution_count": 10,
   "id": "8ce7add6-d5cc-4c92-98a7-9e9aecfaf1a4",
   "metadata": {},
   "outputs": [],
   "source": [
    "Q11 = q1.iloc[4, 1]"
   ]
  },
  {
   "cell_type": "code",
   "execution_count": 13,
   "id": "82679a5d-f4d9-4e63-86b6-4ad1ef70c0a9",
   "metadata": {},
   "outputs": [],
   "source": [
    "Q12 = q1.iloc[[0, 2, 3]]"
   ]
  },
  {
   "cell_type": "code",
   "execution_count": 17,
   "id": "d3b87dba-dbf6-4d19-b775-e46f7d83a505",
   "metadata": {},
   "outputs": [],
   "source": [
    "Q13 = q1.iloc[2:]"
   ]
  },
  {
   "cell_type": "code",
   "execution_count": 44,
   "id": "1398e439-fa0a-4860-ad69-d2615310912c",
   "metadata": {},
   "outputs": [],
   "source": [
    "Q14 = q1['lowercase']"
   ]
  },
  {
   "cell_type": "code",
   "execution_count": 34,
   "id": "f48842a6-b2d3-4b9f-a6ec-42492ee9dd7b",
   "metadata": {},
   "outputs": [],
   "source": [
    "q1['percent'] = q1['numbers'] / q1['numbers'].sum()\n",
    "Q15 = q1"
   ]
  }
 ],
 "metadata": {
  "kernelspec": {
   "display_name": "anaconda-panel-2023.05-py310",
   "language": "python",
   "name": "conda-env-anaconda-panel-2023.05-py310-py"
  },
  "language_info": {
   "codemirror_mode": {
    "name": "ipython",
    "version": 3
   },
   "file_extension": ".py",
   "mimetype": "text/x-python",
   "name": "python",
   "nbconvert_exporter": "python",
   "pygments_lexer": "ipython3",
   "version": "3.11.4"
  }
 },
 "nbformat": 4,
 "nbformat_minor": 5
}
