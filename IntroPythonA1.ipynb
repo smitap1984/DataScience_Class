{
 "cells": [
  {
   "cell_type": "code",
   "execution_count": 28,
   "id": "12a7da96-5564-4fe3-85d9-014702f7b73c",
   "metadata": {},
   "outputs": [],
   "source": [
    "Q1 = \"Welcome to EU!\""
   ]
  },
  {
   "cell_type": "code",
   "execution_count": 33,
   "id": "7674bdf9-a550-4427-8e91-6c257408ada9",
   "metadata": {},
   "outputs": [],
   "source": [
    "Q2 = Q1[11:]"
   ]
  },
  {
   "cell_type": "code",
   "execution_count": 37,
   "id": "ed177815-af3c-4d3a-a24b-3046b8f96b26",
   "metadata": {},
   "outputs": [],
   "source": [
    "Q3 = Q1[5:10]"
   ]
  },
  {
   "cell_type": "code",
   "execution_count": 39,
   "id": "da72511b-857e-4e9c-99cf-4ec33f51460c",
   "metadata": {},
   "outputs": [],
   "source": [
    "Q4 = [\"Eric Camacho\", \"Elmer Felicitas\", \"Shankar Lucrece\", \"Gitta Nevena\", \"Rasmus Tarquinius\"]"
   ]
  },
  {
   "cell_type": "code",
   "execution_count": 42,
   "id": "610340e4-c2e7-4a61-b186-1cb0b55c858e",
   "metadata": {},
   "outputs": [],
   "source": [
    "Q5 = [7, '7', 'Seven', 7.0]"
   ]
  },
  {
   "cell_type": "code",
   "execution_count": 50,
   "id": "0175f58f-2c87-42d6-b8dc-123971cb6fcd",
   "metadata": {},
   "outputs": [],
   "source": [
    "Q6 = Q4[3:5]\n"
   ]
  },
  {
   "cell_type": "code",
   "execution_count": 53,
   "id": "ad9ffd0f-afeb-4975-b2d2-ed5a4605873c",
   "metadata": {},
   "outputs": [],
   "source": [
    "Q7 = Q5[1:3]"
   ]
  },
  {
   "cell_type": "code",
   "execution_count": 55,
   "id": "25fef291-1688-43ef-898d-025e141834b4",
   "metadata": {},
   "outputs": [],
   "source": [
    "mylist = [4, 8, 11, 3, 19, 2, 5, 8, 12, 9]"
   ]
  },
  {
   "cell_type": "code",
   "execution_count": 57,
   "id": "58ca62b3-6559-4082-b435-160148ed0a06",
   "metadata": {},
   "outputs": [],
   "source": [
    "Q8 = mylist[0:3]"
   ]
  },
  {
   "cell_type": "code",
   "execution_count": 59,
   "id": "1c590ba2-0902-4b57-a8a2-2b63e897e5bd",
   "metadata": {},
   "outputs": [],
   "source": [
    "Q9 = mylist[7:10]"
   ]
  },
  {
   "cell_type": "code",
   "execution_count": 63,
   "id": "68e76c9d-abe1-4699-868f-874251b577ff",
   "metadata": {},
   "outputs": [],
   "source": [
    "Q10 = mylist[2:6]"
   ]
  },
  {
   "cell_type": "code",
   "execution_count": 65,
   "id": "8596c06d-d377-4129-9f89-58f5db53161d",
   "metadata": {},
   "outputs": [],
   "source": [
    "Q11 = mylist[5:7]"
   ]
  }
 ],
 "metadata": {
  "kernelspec": {
   "display_name": "anaconda-panel-2023.05-py310",
   "language": "python",
   "name": "conda-env-anaconda-panel-2023.05-py310-py"
  },
  "language_info": {
   "codemirror_mode": {
    "name": "ipython",
    "version": 3
   },
   "file_extension": ".py",
   "mimetype": "text/x-python",
   "name": "python",
   "nbconvert_exporter": "python",
   "pygments_lexer": "ipython3",
   "version": "3.11.4"
  }
 },
 "nbformat": 4,
 "nbformat_minor": 5
}
