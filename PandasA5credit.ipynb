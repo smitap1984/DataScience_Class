{
 "cells": [
  {
   "cell_type": "code",
   "execution_count": 277,
   "id": "10f9f947-74e9-48c6-be57-d35051b350a2",
   "metadata": {},
   "outputs": [],
   "source": [
    "import numpy as np\n",
    "import pandas as pd"
   ]
  },
  {
   "cell_type": "code",
   "execution_count": 46,
   "id": "503d7b8e-0093-44c8-aa71-f8e54e907065",
   "metadata": {},
   "outputs": [],
   "source": [
    "np.random.seed(12)"
   ]
  },
  {
   "cell_type": "code",
   "execution_count": 281,
   "id": "5e95eceb-c597-40ab-9c6a-d8f98ca5fa67",
   "metadata": {},
   "outputs": [],
   "source": [
    "Words = [('One', 1), ('One', 2),\n",
    "         ('Two', 1), ('Two', 2),\n",
    "         ('Three', 1), ('Three', 2)]\n",
    "Numbers = [11, 111,\n",
    "           22, 222,\n",
    "           33, 333]\n",
    "\n",
    "index = pd.MultiIndex.from_tuples(Words, names=['Words', 'Numbers'])\n",
    "Q1 = pd.Series(Numbers, index=index)\n",
    "\n",
    "Q1 = Q1.reindex(Words)"
   ]
  },
  {
   "cell_type": "code",
   "execution_count": 285,
   "id": "349e0c1a-187b-4f1c-903b-c063a4fd3122",
   "metadata": {},
   "outputs": [],
   "source": [
    "Q2 = Q1['Three', :]"
   ]
  },
  {
   "cell_type": "code",
   "execution_count": 60,
   "id": "8651dfc4-d412-479f-96d4-94875f8a562b",
   "metadata": {},
   "outputs": [],
   "source": [
    "Q3 = Q1[:, 2]"
   ]
  },
  {
   "cell_type": "code",
   "execution_count": 64,
   "id": "8e0b9cec-dbf6-4673-bebf-6817696968da",
   "metadata": {},
   "outputs": [],
   "source": [
    "Q4 = Q1.unstack()"
   ]
  },
  {
   "cell_type": "code",
   "execution_count": 72,
   "id": "5e2bb569-7391-4392-8d1f-86cd800eaf7c",
   "metadata": {},
   "outputs": [],
   "source": [
    "Q5 = Q4.sum()"
   ]
  },
  {
   "cell_type": "code",
   "execution_count": 97,
   "id": "b9b1094b-c1fa-4c2f-ae48-49d2884249ee",
   "metadata": {},
   "outputs": [],
   "source": [
    "df = pd.DataFrame(np.random.randint(9, size = (6, 2)),\n",
    "                  index=[[1, 1, 2, 2, 3, 3], ['a', 'b', 'a', 'b', 'a', 'b']],\n",
    "                  columns=['A', 'B'])\n",
    "Q6 = df"
   ]
  },
  {
   "cell_type": "code",
   "execution_count": 115,
   "id": "c3b5dd87-50a5-41f6-82d6-0fc57f6999dd",
   "metadata": {},
   "outputs": [],
   "source": [
    "# hierarchical indices and columns\n",
    "index = pd.MultiIndex.from_product([\n",
    "                                    ['ONE', 'TWO', 'THREE'], \n",
    "                                    ['one', 'two']\n",
    "                                   ],\n",
    "                                   names=['NUMBER', 'number'])\n",
    "columns = pd.MultiIndex.from_product([['A', 'B'], \n",
    "                                      ['a', 'b', 'c', 'd']],\n",
    "                                     names=['LETTER', 'letter'])\n",
    "\n",
    "\n",
    "# create the DataFrame\n",
    "Q7 = pd.DataFrame(np.random.randint(20, size = (6, 8)), index=index, columns=columns)"
   ]
  },
  {
   "cell_type": "code",
   "execution_count": 127,
   "id": "871cb3f1-38bf-4d75-8c3f-afbf9222850b",
   "metadata": {},
   "outputs": [],
   "source": [
    "Q8 = Q7['A']"
   ]
  },
  {
   "cell_type": "code",
   "execution_count": 171,
   "id": "674b12cb-8447-4383-b88a-01bf147b1daa",
   "metadata": {},
   "outputs": [],
   "source": [
    "ser1 = pd.Series([7, 8, 9, 10], index=['ONE', 'TWO', 'THREE', 'FOUR'])\n",
    "ser2 = pd.Series([11, 12, 13, 14], index=['THREE', 'FOUR', 'FIVE', 'SIX'])\n"
   ]
  },
  {
   "cell_type": "code",
   "execution_count": 175,
   "id": "49258080-4bec-4508-9734-0a776e666144",
   "metadata": {},
   "outputs": [],
   "source": [
    "Q9 = pd.concat([ser1, ser2], axis=1)"
   ]
  },
  {
   "cell_type": "code",
   "execution_count": 177,
   "id": "6606e885-d3de-4272-879f-09247826ff81",
   "metadata": {},
   "outputs": [],
   "source": [
    "Q10 = pd.concat([ser1, ser2])"
   ]
  },
  {
   "cell_type": "code",
   "execution_count": 185,
   "id": "d91a30a7-ec52-49a2-8dba-b53dedc50897",
   "metadata": {},
   "outputs": [],
   "source": [
    "Q11 = pd.concat([ser1, ser2], keys=['A', 'B'])"
   ]
  },
  {
   "cell_type": "code",
   "execution_count": 187,
   "id": "c346141c-af12-4676-a247-c1435261f3b9",
   "metadata": {},
   "outputs": [],
   "source": [
    "ser3 = pd.Series([15,16], index=['SEVEN', 'EIGHT'])"
   ]
  },
  {
   "cell_type": "code",
   "execution_count": 239,
   "id": "166e9ef9-1ec1-45ec-b4c0-8f4d4062ea53",
   "metadata": {},
   "outputs": [],
   "source": [
    "df1 = pd.DataFrame({'A': ser1, 'B': ser2})\n",
    "df2 = pd.DataFrame({'B': ser3})"
   ]
  },
  {
   "cell_type": "code",
   "execution_count": 241,
   "id": "dd9ee688-5e5e-4d13-9b93-9829e4bcfd73",
   "metadata": {},
   "outputs": [],
   "source": [
    "Q12 = pd.concat([df1, df2])"
   ]
  }
 ],
 "metadata": {
  "kernelspec": {
   "display_name": "anaconda-panel-2023.05-py310",
   "language": "python",
   "name": "conda-env-anaconda-panel-2023.05-py310-py"
  },
  "language_info": {
   "codemirror_mode": {
    "name": "ipython",
    "version": 3
   },
   "file_extension": ".py",
   "mimetype": "text/x-python",
   "name": "python",
   "nbconvert_exporter": "python",
   "pygments_lexer": "ipython3",
   "version": "3.11.4"
  }
 },
 "nbformat": 4,
 "nbformat_minor": 5
}
