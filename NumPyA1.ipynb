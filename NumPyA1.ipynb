{
 "cells": [
  {
   "cell_type": "code",
   "execution_count": 10,
   "id": "b92c8bfa-caea-4979-825b-ed97023bfd37",
   "metadata": {},
   "outputs": [],
   "source": [
    "import numpy as np"
   ]
  },
  {
   "cell_type": "code",
   "execution_count": 21,
   "id": "edb0eca8-ed28-4be1-87e5-56ac4c010853",
   "metadata": {},
   "outputs": [],
   "source": [
    "Q1 = np.array([2, 8, 7, 11])"
   ]
  },
  {
   "cell_type": "code",
   "execution_count": 24,
   "id": "b3703d84-ab06-4f1d-a7e8-48076542ddb3",
   "metadata": {},
   "outputs": [],
   "source": [
    "Q2 = np.array([[1,2,3], [4,5,6], [7,8,9]])"
   ]
  },
  {
   "cell_type": "code",
   "execution_count": 27,
   "id": "97583877-b16a-4ba2-8376-5fac7cca2590",
   "metadata": {},
   "outputs": [],
   "source": [
    "Q3 = Q2[:, 1:2]"
   ]
  },
  {
   "cell_type": "code",
   "execution_count": 30,
   "id": "0cedb85e-d89a-4ef6-8a1e-f8347f15a8a2",
   "metadata": {},
   "outputs": [],
   "source": [
    "np.random.seed(6)\n",
    "Q4 = np.random.randint(10, size=(5, 6))"
   ]
  },
  {
   "cell_type": "code",
   "execution_count": 40,
   "id": "585240f5-a345-461f-a3be-45bcb4a59dfe",
   "metadata": {},
   "outputs": [],
   "source": [
    "Q5 = Q4[0:3, 1:3]"
   ]
  },
  {
   "cell_type": "code",
   "execution_count": 42,
   "id": "07dc8642-adf1-4373-ad3e-1840a3c602b4",
   "metadata": {},
   "outputs": [],
   "source": [
    "Q6 = Q4[3:, 2:5]"
   ]
  },
  {
   "cell_type": "code",
   "execution_count": 46,
   "id": "19824c8d-cc3c-41eb-a322-0d892bd70a97",
   "metadata": {},
   "outputs": [],
   "source": [
    "Q7 = Q4[2:4, 1:3]"
   ]
  },
  {
   "cell_type": "code",
   "execution_count": 49,
   "id": "2c643fc3-2db3-44dc-9af8-8da82de358f3",
   "metadata": {},
   "outputs": [],
   "source": [
    "Q8 = Q4[:, 2:4]"
   ]
  },
  {
   "cell_type": "code",
   "execution_count": 51,
   "id": "eb0a03b0-cc6f-42f0-a7a5-90e9ece4c8aa",
   "metadata": {},
   "outputs": [],
   "source": [
    "Q9 = Q4[3:, :]"
   ]
  }
 ],
 "metadata": {
  "kernelspec": {
   "display_name": "anaconda-panel-2023.05-py310",
   "language": "python",
   "name": "conda-env-anaconda-panel-2023.05-py310-py"
  },
  "language_info": {
   "codemirror_mode": {
    "name": "ipython",
    "version": 3
   },
   "file_extension": ".py",
   "mimetype": "text/x-python",
   "name": "python",
   "nbconvert_exporter": "python",
   "pygments_lexer": "ipython3",
   "version": "3.11.4"
  }
 },
 "nbformat": 4,
 "nbformat_minor": 5
}
