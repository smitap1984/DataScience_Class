{
 "cells": [
  {
   "cell_type": "code",
   "execution_count": 11,
   "id": "c5a8f6b3-60e2-4714-a746-0b257f9a930a",
   "metadata": {},
   "outputs": [],
   "source": [
    "import numpy as np\n",
    "import pandas as pd\n",
    "\n",
    "Q1 = np.array([2, np.nan, 6, 7, 3, 2])"
   ]
  },
  {
   "cell_type": "code",
   "execution_count": 19,
   "id": "bac8e93a-02b0-42ba-a629-a424c4927fb0",
   "metadata": {},
   "outputs": [],
   "source": [
    "Q2 = np.nansum(Q1)"
   ]
  },
  {
   "cell_type": "code",
   "execution_count": 28,
   "id": "b135e22e-e8c3-4bbe-ad6e-0c90c3303936",
   "metadata": {},
   "outputs": [],
   "source": [
    "Q3 = pd.Series([4, 5, 2, np.nan, 1, np.nan])"
   ]
  },
  {
   "cell_type": "code",
   "execution_count": 24,
   "id": "934c97e8-c6c7-4c07-b781-df122919d000",
   "metadata": {},
   "outputs": [],
   "source": [
    "Q4 = Q3.isnull()"
   ]
  },
  {
   "cell_type": "code",
   "execution_count": 23,
   "id": "6803af90-f6f9-4308-99f8-1945097cb262",
   "metadata": {},
   "outputs": [],
   "source": [
    "Q5 = pd.Series([4, 5, 2, np.nan, 1, np.nan])\n",
    "Q5 = Q5[Q5.notnull()]"
   ]
  },
  {
   "cell_type": "code",
   "execution_count": 25,
   "id": "d1dfd520-6f9a-4b47-b083-f984c1124cf1",
   "metadata": {},
   "outputs": [],
   "source": [
    "Q6 = pd.Series([4, 5, 2, np.nan, 1, np.nan])\n",
    "Q6 = Q6.fillna(100)"
   ]
  },
  {
   "cell_type": "code",
   "execution_count": 27,
   "id": "fb6874cf-c044-4a3d-82a6-2c951718b745",
   "metadata": {},
   "outputs": [],
   "source": [
    "Q7 = pd.DataFrame([[4,      5.0,     2.0,     9.0,     1.0,       8],\n",
    "                   [5,      6.0,     np.nan,  3.0,      np.nan,   2],\n",
    "                   [6,      np.nan,  7.0,     np.nan,   4.0,      3]])\n",
    "Q7 = Q7.fillna(100)"
   ]
  },
  {
   "cell_type": "code",
   "execution_count": 29,
   "id": "9680cc65-223c-4128-a586-47f7d631da00",
   "metadata": {},
   "outputs": [],
   "source": [
    "Q8 = pd.Series([4, 5, 2, np.nan, 1, np.nan])\n",
    "Q8 = Q8.dropna()"
   ]
  },
  {
   "cell_type": "code",
   "execution_count": 31,
   "id": "d57f198c-ad12-4214-a6fe-c869be3a0b77",
   "metadata": {},
   "outputs": [],
   "source": [
    "Q9 = pd.DataFrame([[4,      5.0,     2.0,     9.0,     1.0,       8],\n",
    "                   [5,      6.0,     np.nan,  3.0,      np.nan,   2],\n",
    "                   [6,      np.nan,  7.0,     np.nan,   4.0,      3]])\n",
    "Q9 = Q9.dropna(axis='columns')"
   ]
  },
  {
   "cell_type": "code",
   "execution_count": 33,
   "id": "1dfa6057-4361-4e7a-a013-d8b375eb2da7",
   "metadata": {},
   "outputs": [],
   "source": [
    "Q10 = pd.DataFrame([[4,      5.0,     2.0,     9.0,     1.0,       8],\n",
    "                   [5,      6.0,     np.nan,  3.0,      np.nan,   2],\n",
    "                   [6,      np.nan,  7.0,     np.nan,   4.0,      3]])\n",
    "Q10 = Q10.dropna()"
   ]
  },
  {
   "cell_type": "code",
   "execution_count": 35,
   "id": "6d49091a-f26d-41a2-89ed-678e88442a8f",
   "metadata": {},
   "outputs": [],
   "source": [
    "Q11 = pd.DataFrame([[4,      5.0,     2.0,     9.0,     1.0,       8],\n",
    "                   [5,      6.0,     np.nan,  3.0,      np.nan,   2],\n",
    "                   [6,      np.nan,  7.0,     np.nan,   4.0,      3]])\n",
    "Q11 = Q11.dropna(axis = 'rows', thresh = 5)"
   ]
  },
  {
   "cell_type": "code",
   "execution_count": 59,
   "id": "6a6aaff3-749e-4c73-91fb-f505bfd25ca9",
   "metadata": {},
   "outputs": [],
   "source": [
    "Q12 = pd.DataFrame([[4,      5.0,     2.0,     9.0,     1.0,       8],\n",
    "                   [5,      6.0,     np.nan,  3.0,      np.nan,   2],\n",
    "                   [6,      np.nan,  7.0,     np.nan,   4.0,      3]])\n",
    "Q12[6] = np.nan"
   ]
  }
 ],
 "metadata": {
  "kernelspec": {
   "display_name": "anaconda-panel-2023.05-py310",
   "language": "python",
   "name": "conda-env-anaconda-panel-2023.05-py310-py"
  },
  "language_info": {
   "codemirror_mode": {
    "name": "ipython",
    "version": 3
   },
   "file_extension": ".py",
   "mimetype": "text/x-python",
   "name": "python",
   "nbconvert_exporter": "python",
   "pygments_lexer": "ipython3",
   "version": "3.11.4"
  }
 },
 "nbformat": 4,
 "nbformat_minor": 5
}
