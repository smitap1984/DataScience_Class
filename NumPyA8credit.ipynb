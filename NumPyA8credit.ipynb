{
 "cells": [
  {
   "cell_type": "code",
   "execution_count": null,
   "id": "d9ab28e7-8232-4ac3-89a6-c560f2035944",
   "metadata": {},
   "outputs": [],
   "source": [
    "import numpy as np"
   ]
  },
  {
   "cell_type": "code",
   "execution_count": 5,
   "id": "94fd5222-7a61-43bb-8aa7-7b093a8edaa6",
   "metadata": {},
   "outputs": [],
   "source": [
    "q1 = {\n",
    "        'One' : 'A',\n",
    "        'Two' : 'B',\n",
    "        'Three': 'C',\n",
    "        'Four' : 'D'\n",
    "    }"
   ]
  },
  {
   "cell_type": "code",
   "execution_count": 4,
   "id": "b0278d73-1dbf-46d6-bf00-daf1e6238130",
   "metadata": {},
   "outputs": [],
   "source": [
    "Q1 = q1['Three']"
   ]
  },
  {
   "cell_type": "code",
   "execution_count": 7,
   "id": "7b3f42e8-2f49-49f5-a6f0-96eb4e1dcda3",
   "metadata": {},
   "outputs": [],
   "source": [
    "Q2 = {\n",
    "        'Five' : 'E',\n",
    "        'Six' : 'F'\n",
    "}\n",
    "\n",
    "Q2['Seven'] = 'G'"
   ]
  },
  {
   "cell_type": "code",
   "execution_count": 24,
   "id": "447c68d3-de56-456f-9f64-1a5998e55951",
   "metadata": {},
   "outputs": [],
   "source": [
    "Q3 = {\n",
    "        'Eight' : 'H'\n",
    "}\n",
    "\n",
    "del Q3['Eight']"
   ]
  },
  {
   "cell_type": "code",
   "execution_count": 13,
   "id": "372f77da-523a-4885-9f54-5aa57746796a",
   "metadata": {},
   "outputs": [],
   "source": [
    "Q4 = {\n",
    "        'Nine' : 'I',\n",
    "        'Ten' : 'J'\n",
    "}\n",
    "\n",
    "Q4['Ten'] = 'K'"
   ]
  },
  {
   "cell_type": "code",
   "execution_count": 16,
   "id": "574e39ec-7245-40c0-8130-860a32886e4a",
   "metadata": {},
   "outputs": [],
   "source": [
    "def Q5():\n",
    "\n",
    "    for i in q1:\n",
    "        print(q1[i])"
   ]
  },
  {
   "cell_type": "code",
   "execution_count": 14,
   "id": "90ec362d-8a68-49f9-a21a-89c60cacfc6b",
   "metadata": {},
   "outputs": [],
   "source": [
    "def Q6():\n",
    "\n",
    "    for i in q1:\n",
    "        print(i)"
   ]
  },
  {
   "cell_type": "code",
   "execution_count": 20,
   "id": "38815c07-58b4-40f5-b27b-f35a56986bad",
   "metadata": {},
   "outputs": [],
   "source": [
    "Q7 = {\n",
    "    'Least Favorite' : {\n",
    "        'Fruit' : 'Grape',\n",
    "        'Color' : 'Purple'\n",
    "    },\n",
    "    'Medium Favorite' : {\n",
    "        'Fruit' : 'Apple',\n",
    "        'Color' : 'Red'\n",
    "    },\n",
    "    'Most Favorite' : {\n",
    "        'Fruit' : 'Banana',\n",
    "        'Color' : 'Yellow'\n",
    "    }\n",
    "}"
   ]
  }
 ],
 "metadata": {
  "kernelspec": {
   "display_name": "anaconda-panel-2023.05-py310",
   "language": "python",
   "name": "conda-env-anaconda-panel-2023.05-py310-py"
  },
  "language_info": {
   "codemirror_mode": {
    "name": "ipython",
    "version": 3
   },
   "file_extension": ".py",
   "mimetype": "text/x-python",
   "name": "python",
   "nbconvert_exporter": "python",
   "pygments_lexer": "ipython3",
   "version": "3.11.4"
  }
 },
 "nbformat": 4,
 "nbformat_minor": 5
}
