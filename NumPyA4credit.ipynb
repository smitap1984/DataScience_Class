{
 "cells": [
  {
   "cell_type": "code",
   "execution_count": 57,
   "id": "0a9cf7b0-423b-479d-96d3-85dde715cee4",
   "metadata": {},
   "outputs": [],
   "source": [
    "import numpy as np\n",
    "\n",
    "Q1 = np.zeros(20)"
   ]
  },
  {
   "cell_type": "code",
   "execution_count": 86,
   "id": "36d48e37-41a9-42ab-a1e4-47175d4b1604",
   "metadata": {},
   "outputs": [],
   "source": [
    "Q2 = np.ones((4,5), int)"
   ]
  },
  {
   "cell_type": "code",
   "execution_count": 92,
   "id": "cbb38228-6651-41b4-970c-29bbac94e653",
   "metadata": {},
   "outputs": [],
   "source": [
    "Q3 = np.full((2, 5), 2, dtype=float)"
   ]
  },
  {
   "cell_type": "code",
   "execution_count": 95,
   "id": "0c899337-844c-4d4b-8a49-3e7a5dbd6012",
   "metadata": {},
   "outputs": [],
   "source": [
    "Q4 = np.arange(0,50, dtype=float)"
   ]
  },
  {
   "cell_type": "code",
   "execution_count": 100,
   "id": "b466a11f-cdba-45c1-b646-b6f50c011e00",
   "metadata": {},
   "outputs": [],
   "source": [
    "Q5 = np.linspace(4, 18, num=9)"
   ]
  },
  {
   "cell_type": "code",
   "execution_count": 62,
   "id": "2eb657b1-e73a-499e-8d67-e7916856497c",
   "metadata": {},
   "outputs": [],
   "source": [
    "Q6 = np.diag([1, 1, 1, 1, 1])\n"
   ]
  },
  {
   "cell_type": "code",
   "execution_count": 107,
   "id": "8b28e7a5-f67d-4590-821d-c9dc3d2959f7",
   "metadata": {},
   "outputs": [],
   "source": [
    "np.random.seed(10)\n",
    "Q7 = np.random.random((4, 2))"
   ]
  },
  {
   "cell_type": "code",
   "execution_count": 135,
   "id": "9db16fba-a8c9-417b-85d9-24aa78e836a5",
   "metadata": {},
   "outputs": [],
   "source": [
    "np.random.seed(9)\n",
    "Q8 = np.random.randint(16, size = (4, 2, 5))"
   ]
  },
  {
   "cell_type": "code",
   "execution_count": 137,
   "id": "62067a15-5ae4-4d68-bded-4878975381aa",
   "metadata": {},
   "outputs": [],
   "source": [
    "Q9 = Q8.size"
   ]
  }
 ],
 "metadata": {
  "kernelspec": {
   "display_name": "anaconda-panel-2023.05-py310",
   "language": "python",
   "name": "conda-env-anaconda-panel-2023.05-py310-py"
  },
  "language_info": {
   "codemirror_mode": {
    "name": "ipython",
    "version": 3
   },
   "file_extension": ".py",
   "mimetype": "text/x-python",
   "name": "python",
   "nbconvert_exporter": "python",
   "pygments_lexer": "ipython3",
   "version": "3.11.4"
  }
 },
 "nbformat": 4,
 "nbformat_minor": 5
}
