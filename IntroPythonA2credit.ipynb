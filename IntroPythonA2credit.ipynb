{
 "cells": [
  {
   "cell_type": "code",
   "execution_count": 3,
   "id": "02ad36c3-c7d9-4757-a796-e8d144d96294",
   "metadata": {},
   "outputs": [],
   "source": [
    "Q1 = \"Data Science for all!\""
   ]
  },
  {
   "cell_type": "code",
   "execution_count": 8,
   "id": "bf5d184e-9a80-4508-b3da-724c247a3a71",
   "metadata": {},
   "outputs": [],
   "source": [
    "def Q2():\n",
    "\n",
    "    i = 0\n",
    "\n",
    "    while i < len(Q1):\n",
    "        print (Q1[i])\n",
    "        i += 1\n",
    "    "
   ]
  },
  {
   "cell_type": "code",
   "execution_count": 10,
   "id": "bd3200ea-1180-4ac0-a64a-e67733145fb0",
   "metadata": {},
   "outputs": [],
   "source": [
    "def Q3():\n",
    "\n",
    "    i = 0\n",
    "\n",
    "    while i < len(Q1):\n",
    "        print (\"A\")\n",
    "        i += 1\n",
    "    "
   ]
  },
  {
   "cell_type": "code",
   "execution_count": 14,
   "id": "15a858b1-855a-4f42-bd38-fe488e15df68",
   "metadata": {},
   "outputs": [],
   "source": [
    "Q4 = ['DTSC 520', 'DTSC 550', 'DTSC 575','DTSC 600', 'DTSC 650']"
   ]
  },
  {
   "cell_type": "code",
   "execution_count": 16,
   "id": "e0a39b8e-19d1-4480-b39a-97482fa522a5",
   "metadata": {},
   "outputs": [],
   "source": [
    "def Q5():\n",
    "\n",
    "    for i in Q4:\n",
    "        print (i)"
   ]
  },
  {
   "cell_type": "code",
   "execution_count": 22,
   "id": "56a14e3b-331b-4459-af7c-a830e8cc514f",
   "metadata": {},
   "outputs": [],
   "source": [
    "def Q6():\n",
    "    i = 2\n",
    "\n",
    "    while i < 50:\n",
    "        print (i)\n",
    "        i = i*2\n"
   ]
  },
  {
   "cell_type": "code",
   "execution_count": 25,
   "id": "506110af-55bc-4d4c-80b1-775d128b9027",
   "metadata": {},
   "outputs": [],
   "source": [
    "Q7 = [2,3,5,7,11,13,17,19,23,29]"
   ]
  },
  {
   "cell_type": "code",
   "execution_count": 41,
   "id": "9d119238-0986-489a-aa7e-dca8847d3103",
   "metadata": {},
   "outputs": [],
   "source": [
    "def Q8():\n",
    "\n",
    "    x = 0\n",
    "\n",
    "    for i in Q7:\n",
    "        x = x + i\n",
    "\n",
    "    return (x)\n",
    " "
   ]
  },
  {
   "cell_type": "code",
   "execution_count": 59,
   "id": "7dac5541-5a4d-4315-a010-182f370cec67",
   "metadata": {},
   "outputs": [],
   "source": [
    "def Q9():\n",
    "\n",
    "    i = 3 \n",
    "    j = 0\n",
    "\n",
    "    while i < 1853020188851842:\n",
    "        i = i*i\n",
    "        j = j+1\n",
    "\n",
    "    return (j)"
   ]
  }
 ],
 "metadata": {
  "kernelspec": {
   "display_name": "anaconda-panel-2023.05-py310",
   "language": "python",
   "name": "conda-env-anaconda-panel-2023.05-py310-py"
  },
  "language_info": {
   "codemirror_mode": {
    "name": "ipython",
    "version": 3
   },
   "file_extension": ".py",
   "mimetype": "text/x-python",
   "name": "python",
   "nbconvert_exporter": "python",
   "pygments_lexer": "ipython3",
   "version": "3.11.4"
  }
 },
 "nbformat": 4,
 "nbformat_minor": 5
}
