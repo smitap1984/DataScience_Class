{
 "cells": [
  {
   "cell_type": "code",
   "execution_count": 19,
   "id": "e40ce900-1b48-448d-8a61-2b4d21449df3",
   "metadata": {},
   "outputs": [],
   "source": [
    "Q1 = ['one', 1, 1.0]"
   ]
  },
  {
   "cell_type": "code",
   "execution_count": 21,
   "id": "7c12c378-8cd2-4eb2-a3a6-3a9330e9d0b7",
   "metadata": {},
   "outputs": [],
   "source": [
    "q2 = ['two', 2, 2.0]\n",
    "q2[1] = 'dos'\n",
    "Q2 = q2\n",
    "    \n",
    "\n",
    "     "
   ]
  },
  {
   "cell_type": "code",
   "execution_count": 38,
   "id": "678f6f30-1f89-40e1-85b1-9d491137037b",
   "metadata": {},
   "outputs": [],
   "source": [
    "q3 = ['three', 3, 3.0]\n",
    "q3.append ('tres')\n",
    "Q3 = q3\n"
   ]
  },
  {
   "cell_type": "code",
   "execution_count": 23,
   "id": "85c39e78-8d3d-410d-8bbf-056093d06b65",
   "metadata": {},
   "outputs": [],
   "source": [
    "q4a = ['four', 4, 4.0]\n",
    "q4b = ['eight', 8, 8.0, 'ocho'] \n",
    "q4a.extend(q4b)\n",
    "Q4 = q4a\n"
   ]
  },
  {
   "cell_type": "code",
   "execution_count": 24,
   "id": "0a5188af-d439-4229-b2fe-a63b9e466eb3",
   "metadata": {},
   "outputs": [
    {
     "data": {
      "text/plain": [
       "['four', 4, 4.0, 'eight', 8, 8.0, 'ocho']"
      ]
     },
     "execution_count": 24,
     "metadata": {},
     "output_type": "execute_result"
    }
   ],
   "source": []
  },
  {
   "cell_type": "code",
   "execution_count": 9,
   "id": "81c4f9a4-01f2-4056-ad25-a8d6c0f13d76",
   "metadata": {},
   "outputs": [],
   "source": [
    "q5a = ['five', 5]\n",
    "q5b = ['nine', 9, 9.0, 'nueve']\n",
    "q5a.append(q5b)\n",
    "Q5 = q5a\n"
   ]
  },
  {
   "cell_type": "code",
   "execution_count": 11,
   "id": "edc3e86d-9bf6-4dab-b4c1-4de7cb09437d",
   "metadata": {},
   "outputs": [],
   "source": [
    "Q6 = len(q5b)"
   ]
  },
  {
   "cell_type": "code",
   "execution_count": 13,
   "id": "2a1b28c2-dfcc-4115-b4bd-bdc49a7016a0",
   "metadata": {},
   "outputs": [],
   "source": [
    "Q7 = q5b * 3"
   ]
  },
  {
   "cell_type": "code",
   "execution_count": 17,
   "id": "f5723f69-8522-443f-90b3-f4414e9aef8a",
   "metadata": {},
   "outputs": [],
   "source": [
    "Q8 = Q5[2]"
   ]
  }
 ],
 "metadata": {
  "kernelspec": {
   "display_name": "anaconda-panel-2023.05-py310",
   "language": "python",
   "name": "conda-env-anaconda-panel-2023.05-py310-py"
  },
  "language_info": {
   "codemirror_mode": {
    "name": "ipython",
    "version": 3
   },
   "file_extension": ".py",
   "mimetype": "text/x-python",
   "name": "python",
   "nbconvert_exporter": "python",
   "pygments_lexer": "ipython3",
   "version": "3.11.4"
  }
 },
 "nbformat": 4,
 "nbformat_minor": 5
}
