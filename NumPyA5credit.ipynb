{
 "cells": [
  {
   "cell_type": "code",
   "execution_count": 4,
   "id": "4c7bb572-9d6f-4cba-805c-f6ae3b161a3d",
   "metadata": {},
   "outputs": [],
   "source": [
    "import numpy as np\n",
    "\n",
    "np.random.seed(5)\n",
    "x= np.random.randint(15, size = (20))\n",
    "Q1 = x[4]"
   ]
  },
  {
   "cell_type": "code",
   "execution_count": 6,
   "id": "52b6e6a1-526b-4cf5-a9b6-37bf66063614",
   "metadata": {},
   "outputs": [],
   "source": [
    "Q2 = x[8:20]"
   ]
  },
  {
   "cell_type": "code",
   "execution_count": 7,
   "id": "c061e950-0717-4f89-a584-1994c19c49be",
   "metadata": {},
   "outputs": [],
   "source": [
    "Q3 = x[1:18:2]"
   ]
  },
  {
   "cell_type": "code",
   "execution_count": 56,
   "id": "fecf6a11-032d-4ce3-93dd-ebbbe9c092b2",
   "metadata": {},
   "outputs": [],
   "source": [
    "np.random.seed(6)\n",
    "x = np.random.randint(15, size = (7,8))"
   ]
  },
  {
   "cell_type": "code",
   "execution_count": 57,
   "id": "093a11c6-9734-4716-b21d-0cb2386456d6",
   "metadata": {},
   "outputs": [],
   "source": [
    "Q4 = x[5, 3]"
   ]
  },
  {
   "cell_type": "code",
   "execution_count": 65,
   "id": "4224fa8e-7eed-4721-bff3-db320f41ce0e",
   "metadata": {},
   "outputs": [],
   "source": [
    "Q5 = x[0:2, 5:]"
   ]
  },
  {
   "cell_type": "code",
   "execution_count": 10,
   "id": "ada8a4aa-3c94-46d6-8376-f5ad70fc0da7",
   "metadata": {},
   "outputs": [],
   "source": [
    "# np.random.seed(10)\n",
    "# Q6 = np.random.randint(15, size = (4,5))\n",
    "Q6 = np.array([[ 9, 13,  4,  0,  1],\n",
    "       [11, 12,  9, 13,  0],\n",
    "       [13,  1,  4,  8,  9],\n",
    "       [ 0, 10,  8,  6,  4]])"
   ]
  },
  {
   "cell_type": "code",
   "execution_count": 13,
   "id": "fc61538d-87cf-41b8-b8cc-0abc51e4c2ce",
   "metadata": {},
   "outputs": [],
   "source": [
    "# Q7 = Q6[1:, 0:3]\n",
    "Q7 = np.array([[11, 12,  9],\n",
    "       [13,  1,  4],\n",
    "       [ 0, 10,  8]])"
   ]
  },
  {
   "cell_type": "code",
   "execution_count": 78,
   "id": "4e2bb8f2-1d54-4e30-addd-de1986d148da",
   "metadata": {},
   "outputs": [],
   "source": [
    "np.random.seed(8)\n",
    "Q8 = np.random.randint(15, size = (4,5))"
   ]
  },
  {
   "cell_type": "code",
   "execution_count": 14,
   "id": "6341ab00-ce95-4b7f-9724-e274291fc069",
   "metadata": {},
   "outputs": [],
   "source": [
    "# Q9 = Q8[1:, 0:3]\n",
    "Q9 = np.array([[10,  8,  3],\n",
    "       [13,  5,  4],\n",
    "       [10, 11, 12]])"
   ]
  },
  {
   "cell_type": "code",
   "execution_count": 83,
   "id": "121ccfdd-efb1-4f9e-a870-fa6e0042bef7",
   "metadata": {},
   "outputs": [],
   "source": [
    "np.random.seed(20)\n",
    "x = np.random.randint(15, size = (2,6))"
   ]
  },
  {
   "cell_type": "code",
   "execution_count": 86,
   "id": "a42d51a0-7c4b-4152-a487-b42e6a7b59b4",
   "metadata": {},
   "outputs": [],
   "source": [
    "Q10 = x.reshape(4,3)"
   ]
  },
  {
   "cell_type": "code",
   "execution_count": 87,
   "id": "8cb9f1ca-0a63-49cf-954f-79e0091369ba",
   "metadata": {},
   "outputs": [],
   "source": [
    "np.random.seed(15)\n",
    "x = np.random.randint(15, size = 10)"
   ]
  },
  {
   "cell_type": "code",
   "execution_count": 95,
   "id": "665ae7de-91ea-4e3b-9c12-eaa8552dc98d",
   "metadata": {},
   "outputs": [],
   "source": [
    "Q11 = x.reshape(10,1)"
   ]
  },
  {
   "cell_type": "code",
   "execution_count": 96,
   "id": "18d97acb-5990-4337-aba2-94ccb05a5a4c",
   "metadata": {},
   "outputs": [],
   "source": [
    "np.random.seed(9)\n",
    "x = np.random.randint(15, size = (5,3))"
   ]
  },
  {
   "cell_type": "code",
   "execution_count": 99,
   "id": "90018f2c-78ac-4e31-a594-09429d906cf6",
   "metadata": {},
   "outputs": [],
   "source": [
    "Q12 = x[3,]"
   ]
  }
 ],
 "metadata": {
  "kernelspec": {
   "display_name": "anaconda-panel-2023.05-py310",
   "language": "python",
   "name": "conda-env-anaconda-panel-2023.05-py310-py"
  },
  "language_info": {
   "codemirror_mode": {
    "name": "ipython",
    "version": 3
   },
   "file_extension": ".py",
   "mimetype": "text/x-python",
   "name": "python",
   "nbconvert_exporter": "python",
   "pygments_lexer": "ipython3",
   "version": "3.11.4"
  }
 },
 "nbformat": 4,
 "nbformat_minor": 5
}
